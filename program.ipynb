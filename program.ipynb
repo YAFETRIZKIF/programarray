{
 "cells": [
  {
   "cell_type": "code",
   "execution_count": 1,
   "metadata": {},
   "outputs": [],
   "source": [
    "import pandas as pd\n",
    "import numpy as np"
   ]
  },
  {
   "cell_type": "code",
   "execution_count": null,
   "metadata": {},
   "outputs": [],
   "source": [
    "#define number of value\n",
    "\n",
    "val = np.arange(1,101)\n",
    "\n",
    "#create function to apply logic for prime number\n",
    "def prime_num(n):\n",
    "    if n < 2:\n",
    "        return False\n",
    "    for i in range(2, n):  \n",
    "        if n % i == 0:\n",
    "            return False\n",
    "    return True\n",
    "\n",
    "#create list for output values\n",
    "prime_list = []\n"
   ]
  },
  {
   "cell_type": "code",
   "execution_count": 10,
   "metadata": {},
   "outputs": [],
   "source": [
    "#iterate over valray to apply prime_num function\n",
    "for x in val:\n",
    "    prime_list.append(prime_num(x))\n",
    "\n",
    "result = val.astype(object)"
   ]
  },
  {
   "cell_type": "code",
   "execution_count": 12,
   "metadata": {},
   "outputs": [],
   "source": [
    "#Replace numbers divisible by both 3 and 5 with \"FooBar\"\n",
    "rep_3and5 = (val % 15 == 0)\n",
    "result[rep_3and5] = \"FooBar\""
   ]
  },
  {
   "cell_type": "code",
   "execution_count": 13,
   "metadata": {},
   "outputs": [],
   "source": [
    "#Replace numbers divisible by 3 with \"Foo\" and excluding value from past step that already handled\n",
    "rep_3 = (val % 3 == 0) & ~rep_3and5\n",
    "result[rep_3] = \"Foo\""
   ]
  },
  {
   "cell_type": "code",
   "execution_count": null,
   "metadata": {},
   "outputs": [],
   "source": [
    "#Replace numbers divisible by 5 with \"Bar\" and excluding value from past step that already handled\n",
    "rep_5 = (val % 5 == 0) & ~rep_3and5 \n",
    "result[rep_5] = \"Bar\""
   ]
  },
  {
   "cell_type": "code",
   "execution_count": 15,
   "metadata": {},
   "outputs": [],
   "source": [
    "#filter values for prime numbers\n",
    "result[prime_list] = \"\""
   ]
  },
  {
   "cell_type": "code",
   "execution_count": 16,
   "metadata": {},
   "outputs": [
    {
     "name": "stdout",
     "output_type": "stream",
     "text": [
      "1   4  Foo  8 Foo Bar  Foo  14 FooBar 16  Foo  Bar Foo 22  Foo Bar 26 Foo 28  FooBar  32 Foo 34 Bar Foo  38 Foo Bar  Foo  44 FooBar 46  Foo 49 Bar Foo 52  Foo Bar 56 Foo 58  FooBar  62 Foo 64 Bar Foo  68 Foo Bar  Foo  74 FooBar 76 77 Foo  Bar Foo 82  Foo Bar 86 Foo 88  FooBar 91 92 Foo 94 Bar Foo  98 Foo Bar\n"
     ]
    }
   ],
   "source": [
    "#Print output horizontally (filter out empty strings)\n",
    "print(\" \".join(map(str, result)))"
   ]
  },
  {
   "cell_type": "code",
   "execution_count": null,
   "metadata": {},
   "outputs": [],
   "source": []
  }
 ],
 "metadata": {
  "kernelspec": {
   "display_name": "Python 3",
   "language": "python",
   "name": "python3"
  },
  "language_info": {
   "codemirror_mode": {
    "name": "ipython",
    "version": 3
   },
   "file_extension": ".py",
   "mimetype": "text/x-python",
   "name": "python",
   "nbconvert_exporter": "python",
   "pygments_lexer": "ipython3",
   "version": "3.10.6"
  }
 },
 "nbformat": 4,
 "nbformat_minor": 2
}
